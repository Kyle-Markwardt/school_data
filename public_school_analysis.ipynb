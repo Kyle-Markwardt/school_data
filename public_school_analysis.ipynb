{
 "cells": [
  {
   "cell_type": "markdown",
   "id": "29492666-a5bf-416e-8d1b-1cd61539c518",
   "metadata": {},
   "source": [
    "# US School Analysis"
   ]
  },
  {
   "cell_type": "markdown",
   "id": "c64cbaad-1c75-4652-8376-e5e6c803e27d",
   "metadata": {},
   "source": [
    "## Read in Data"
   ]
  },
  {
   "cell_type": "code",
   "execution_count": null,
   "id": "55db3a45-7d63-4920-b183-cd2aa521a8c0",
   "metadata": {},
   "outputs": [],
   "source": [
    "# Include all your imports here\n",
    "import pandas as pd\n",
    "from pathlib import Path\n",
    "import seaborn as sns\n"
   ]
  },
  {
   "cell_type": "code",
   "execution_count": null,
   "id": "f4867586-65ce-46cd-b110-7ff6761ba4a5",
   "metadata": {},
   "outputs": [],
   "source": [
    "# Load the Public school dataset\n",
    "# Paths\n",
    "school_data_path = Path(\"Resources/public_school_data.csv\")\n",
    "school_dict_path = Path(\"Resources/school_data_dictionary.csv\")\n",
    "locations_path = Path(\"Resources/public_school_locations.csv\")\n",
    "\n",
    "# Dataframes\n",
    "raw_data_df = pd.read_csv(school_data_path)\n",
    "locations_df = pd.read_csv(locations_path)\n",
    "school_dict = pd.read_csv(school_dict_path)"
   ]
  },
  {
   "cell_type": "markdown",
   "id": "9b5c714d-1c47-4532-b349-f31018c2ee7e",
   "metadata": {},
   "source": [
    "## Data Exploration and Preparation"
   ]
  },
  {
   "cell_type": "code",
   "execution_count": null,
   "id": "07b2ff0a-a818-4f2e-b115-2c23ebdb7347",
   "metadata": {},
   "outputs": [],
   "source": [
    "# Keep only fields that appear in the main data\n",
    "dictionary = {}\n",
    "valid_fields = school_dict[\"Fields\"].isin(raw_data_df.columns) | school_dict[\"Fields\"].isin(locations_df.columns)\n",
    "selected_rows = school_dict[valid_fields]\n",
    "\n",
    "for index, row in selected_rows.iterrows():\n",
    "    dictionary[row[\"Fields\"]] = row[\"Field Descriptions\"]\n",
    "    \n",
    "dictionary\n"
   ]
  },
  {
   "cell_type": "code",
   "execution_count": null,
   "id": "88e8adad-acf9-4364-abbd-fc0f58478867",
   "metadata": {},
   "outputs": [],
   "source": [
    "# Ensure the column you selected is indeed a unique identifier by checking the number of uniqe values and comparing it to the number of rows in the dataframe\n",
    "if len(raw_data_df[\"NCESSCH\"].value_counts()) == raw_data_df.shape[0]:\n",
    "    print(\"NCESSCH IS a unique identifier.\")\n",
    "else:\n",
    "    print(\"NCESSCH is NOT a unique identifier.\")\n"
   ]
  },
  {
   "cell_type": "code",
   "execution_count": null,
   "id": "b5895fe0-a0d2-4df1-b5f1-6a8ed3a8a3b0",
   "metadata": {},
   "outputs": [],
   "source": [
    "# Change the names of the unique ID column in both the location data and public school data to match and set them as index\n",
    "def rename_columns(df, dictionary):\n",
    "    for old_column, new_column in dictionary.items():\n",
    "        if old_column in df.columns:\n",
    "            df.rename(columns={old_column: new_column}, inplace=True)\n",
    "        else:\n",
    "            print(f\"Column '{old_column}' not found in {df}.\")\n",
    "            \n",
    "    return df\n",
    "    \n",
    "school_data = rename_columns(raw_data_df, dictionary)\n",
    "school_data.set_index(\"Unique School ID\", inplace = True)\n",
    "\n",
    "location_data = rename_columns(locations_df, dictionary)\n",
    "location_data.rename(columns={\"ID\":\"Unique School ID\"}, inplace=True)\n",
    "location_data.set_index(\"Unique School ID\", inplace = True)\n",
    "\n",
    "\n"
   ]
  },
  {
   "cell_type": "code",
   "execution_count": null,
   "id": "518cefb0-fec0-4c66-9d6f-1ecf6196acfc",
   "metadata": {},
   "outputs": [],
   "source": [
    "# Confirm\n",
    "school_data.head()"
   ]
  },
  {
   "cell_type": "code",
   "execution_count": null,
   "id": "b8fd0a6d-1c51-4db7-b7b9-8cb2e2c0b879",
   "metadata": {},
   "outputs": [],
   "source": [
    "# Confirm\n",
    "location_data.head()"
   ]
  },
  {
   "cell_type": "code",
   "execution_count": null,
   "id": "fe362bf6-9829-4c19-929b-a255ad8a004f",
   "metadata": {},
   "outputs": [],
   "source": [
    "# Join location and raw data \n",
    "all_data = school_data.join(location_data, on=\"Unique School ID\", how=\"left\")\n",
    "all_data.head()"
   ]
  },
  {
   "cell_type": "code",
   "execution_count": null,
   "id": "136c325e-f07b-41cd-b5e9-9573675d5485",
   "metadata": {},
   "outputs": [],
   "source": [
    "# Get the value counts for the school type column\n",
    "all_data[\"School type (description)\"].value_counts()"
   ]
  },
  {
   "cell_type": "code",
   "execution_count": null,
   "id": "99f87e68-5766-4965-b040-aabaa79ed96b",
   "metadata": {},
   "outputs": [],
   "source": [
    "# Create a subset of the dataframe that only includes regular schools \n",
    "regular_schools = all_data.loc[all_data[\"School type (description)\"] == \"Regular school\"]\n",
    "if len(regular_schools) == all_data[\"School type (description)\"].value_counts()[\"Regular school\"]:\n",
    "    print(\"Regular school data collected succesfully\")\n",
    "else:\n",
    "    print(\"Error creating Regular school dataframe\")"
   ]
  },
  {
   "cell_type": "markdown",
   "id": "00a498d3-e82a-479a-b3f3-ca3d4a46e787",
   "metadata": {},
   "source": [
    "## Data Cleaning and dealing with nulls"
   ]
  },
  {
   "cell_type": "code",
   "execution_count": null,
   "id": "eb046205-7c50-431a-93ff-3ce3950d1668",
   "metadata": {},
   "outputs": [],
   "source": [
    "# Check for nulls\n",
    "print(regular_schools.isnull().sum())\n"
   ]
  },
  {
   "cell_type": "code",
   "execution_count": null,
   "id": "9b475f58-df81-4d29-8daf-486d62bceae5",
   "metadata": {},
   "outputs": [],
   "source": [
    "# Fill some of the columns with 0 where it makes sense\n",
    "to_be_filled = [\"All Students - American Indian/Alaska Native\",\n",
    "               \"All Students - Asian\",\n",
    "               \"All Students - Black or African American\",\n",
    "               \"All Students - Native Hawai'ian or Other Pacific Islander\",\n",
    "               \"All Students - Hispanic\",\n",
    "               \"All Students - Two or More Races\",\n",
    "               \"All Students - White\"]\n",
    "\n",
    "# Use .loc to avoid SettingWithCopyWarning\n",
    "regular_schools.loc[:, to_be_filled] = regular_schools[to_be_filled].fillna(0)\n"
   ]
  },
  {
   "cell_type": "code",
   "execution_count": null,
   "id": "5cad43d6-8d29-450e-8a24-c9e7524b3e99",
   "metadata": {},
   "outputs": [],
   "source": [
    "# Verify changes to nulls and prepare to drop na\n",
    "print(regular_schools.isnull().sum())\n"
   ]
  },
  {
   "cell_type": "code",
   "execution_count": null,
   "id": "c579c438-11e1-417f-b7e4-16c4fd1aa3c0",
   "metadata": {},
   "outputs": [],
   "source": [
    "# Drop remaining nulls wher it would make sense\n",
    "regular_schools = regular_schools.dropna()\n"
   ]
  },
  {
   "cell_type": "code",
   "execution_count": null,
   "id": "f8fb04d0-79d1-4ea1-b995-be79190644b7",
   "metadata": {},
   "outputs": [],
   "source": [
    "# Verify changes to nulls and no nulls should remain\n",
    "print(regular_schools.isnull().sum())\n"
   ]
  },
  {
   "cell_type": "markdown",
   "id": "94b0396d-1b61-492f-abe8-ed6ad3482f4d",
   "metadata": {},
   "source": [
    "## Plotting to help Clean the Data"
   ]
  },
  {
   "cell_type": "code",
   "execution_count": null,
   "id": "f33bc272-be71-43dc-9cfb-cde1edcb2fee",
   "metadata": {},
   "outputs": [],
   "source": [
    "# Plot a histogram of Total enrolled students and check for outliers\n",
    "regular_schools[\"Total students all grades (includes AE)\"].plot(kind='hist',bins=100)\n",
    "regular_schools[\"Total students all grades (includes AE)\"].nlargest(5)"
   ]
  },
  {
   "cell_type": "code",
   "execution_count": null,
   "id": "ba8b0e8f-f81f-483e-9fca-0c6d06ccbaf3",
   "metadata": {},
   "outputs": [],
   "source": [
    "# Plot a histogram of Total Teachers and check for outliers\n",
    "regular_schools[\"Total Teachers\"].plot(kind='hist',bins=100)\n",
    "regular_schools[\"Total Teachers\"].nlargest(5)"
   ]
  },
  {
   "cell_type": "code",
   "execution_count": null,
   "id": "aaf94346-5886-4517-b971-e07ad091bbc1",
   "metadata": {},
   "outputs": [],
   "source": [
    "# Plot a histogram of Student Teacher Ratio and check for outliers\n",
    "regular_schools[\"Student teacher ratio\"].plot(kind='hist',bins=100)\n",
    "regular_schools[\"Student teacher ratio\"].nlargest(5)"
   ]
  },
  {
   "cell_type": "code",
   "execution_count": null,
   "id": "01b5a36c-7d94-48d0-8ac6-d2fd12e88d59",
   "metadata": {},
   "outputs": [],
   "source": [
    "# Re-Plot a histogram of Total enrolled students after removing 0s and outliers above the 99th quantile\n",
    "q_stu_high = regular_schools[\"Total students all grades (includes AE)\"].quantile(0.99)\n",
    "total_filtered = regular_schools[(regular_schools['Total students all grades (includes AE)'] > 0) & (regular_schools['Total students all grades (includes AE)'] <= q_stu_high)]\n",
    "\n",
    "total_filtered[\"Total students all grades (includes AE)\"].plot(kind='hist',bins=100)\n",
    "total_filtered[\"Total students all grades (includes AE)\"].nlargest(5)\n"
   ]
  },
  {
   "cell_type": "code",
   "execution_count": null,
   "id": "f2f104a9-1c7c-44bd-b3ca-694972a5838c",
   "metadata": {},
   "outputs": [],
   "source": [
    "# Re-Plot a histogram of Total Teachers after removing 0s and outliers above the 99th quantile\n",
    "q_teach_high = regular_schools[\"Total Teachers\"].quantile(0.99)\n",
    "fte_filtered = regular_schools[(regular_schools[\"Total Teachers\"] > 0) & (regular_schools[\"Total Teachers\"] <= q_teach_high)]\n",
    "\n",
    "fte_filtered[\"Total Teachers\"].plot(kind='hist',bins=100)\n",
    "fte_filtered[\"Total Teachers\"].nlargest(5)\n"
   ]
  },
  {
   "cell_type": "code",
   "execution_count": null,
   "id": "5099b089-dd01-4015-a089-d7c8c5fe0a50",
   "metadata": {},
   "outputs": [],
   "source": [
    "# Re-Plot a histogram of Student Teacher Ratio after removing 0s and outliers above the 99th quantile\n",
    "q_ratio_high = regular_schools[\"Student teacher ratio\"].quantile(0.99)\n",
    "ratio_filtered = regular_schools[(regular_schools[\"Student teacher ratio\"] > 0) & (regular_schools[\"Student teacher ratio\"] <= q_ratio_high)]\n",
    "\n",
    "ratio_filtered[\"Student teacher ratio\"].plot(kind='hist',bins=100)\n",
    "ratio_filtered[\"Student teacher ratio\"].nlargest(5)\n",
    "\n",
    "#Total df with all col filtered:\n",
    "regular_filt_df = regular_schools[\n",
    "    ((regular_schools[\"Student teacher ratio\"] > 0) & (regular_schools[\"Student teacher ratio\"] <= q_ratio_high)) & \n",
    "    ((regular_schools[\"Total Teachers\"] > 0) &  (regular_schools[\"Total Teachers\"] <= q_teach_high)) & \n",
    "    ((regular_schools['Total students all grades (includes AE)'] > 0) & \n",
    "     (regular_schools['Total students all grades (includes AE)'] <= q_stu_high))\n",
    "]"
   ]
  },
  {
   "cell_type": "markdown",
   "id": "be8a5465-1729-4224-8d67-a3bb7d2e36db",
   "metadata": {},
   "source": [
    "## Correlation Plot to Understand Data Relationships"
   ]
  },
  {
   "cell_type": "code",
   "execution_count": null,
   "id": "eba2a690-97c0-4cbb-8eee-e3f59ea2d7b7",
   "metadata": {},
   "outputs": [],
   "source": [
    "# Use seaborn to generate a correlation heatmap for the columns in the dataframe\n",
    "correlartion_df = regular_schools.drop(columns=[\"Location state\", \"School level\", \"School type (description)\"]).corr()\n",
    "correlation_df\n",
    "\n",
    "sns.heatmap(correlation_df, vmin=-1, vmax=1)\n"
   ]
  },
  {
   "cell_type": "markdown",
   "id": "2c7d5297-4123-4304-828f-fab95f809b9e",
   "metadata": {},
   "source": [
    "## Geographic Plots"
   ]
  },
  {
   "cell_type": "code",
   "execution_count": null,
   "id": "ea105476-cb58-4e1b-b6e4-48f0dce896ae",
   "metadata": {},
   "outputs": [],
   "source": [
    "# Plot only schools from the 48 contiguous US states or the 50 US states (drop territories and PR)\n",
    "print(regular_schools[\"Location state\"].nunique())\n",
    "print(regular_schools[\"Location state\"].unique())\n",
    "\n",
    "contiguous_df = regular_schools.loc[~regular_schools[\"Location state\"].isin([\"PR\",\"VI\",\"AK\",\"HI\",\"GU\",\"DC\"])]\n",
    "\n",
    "contiguous_df.plot.scatter(x=\"Longitude\", y=\"Latitude\", figsize=(15,9))\n",
    "# NOTE: Why does IL not report this data? Or Utah?\n",
    "# NOTE: There is ONE school reporting within UT, Aneth Community School, which is in Navajo Nation"
   ]
  },
  {
   "cell_type": "code",
   "execution_count": null,
   "id": "4d40e365-a229-4cb4-bff9-e1047a2ed42e",
   "metadata": {},
   "outputs": [],
   "source": [
    "# Plot only schools in your state\n",
    "pa_df = regular_schools.loc[regular_schools[\"Location state\"] == \"PA\"]\n",
    "pa_df.plot.scatter(x=\"Longitude\",y=\"Latitude\",figsize=(15,9))\n",
    "\n",
    "\n"
   ]
  },
  {
   "cell_type": "markdown",
   "id": "6cfe5be1-7121-47e0-8aa8-7f08a7673ee5",
   "metadata": {},
   "source": [
    "## School Quality Analysis: Student/Teacher Ratios"
   ]
  },
  {
   "cell_type": "code",
   "execution_count": null,
   "id": "83b36d34-4510-486c-baeb-388a77761482",
   "metadata": {},
   "outputs": [],
   "source": [
    "# Use the dataframe that has filtered out the outliers in Student Teacher Ratio and group by state and get the average\n",
    "# Show the highest 5 Student/Teacher ratios and lowest 5 Student/Teacher ratios as well as the average for your state\n",
    "grouped_s2t = ratio_filtered[\"Student teacher ratio\"].groupby(ratio_filtered[\"Location state\"]).mean().sort_values(ascending=False)\n",
    "s2t = round(grouped_s2t,2)\n",
    "\n",
    "print(\"-- Student/Teacher Ratios --\")\n",
    "# Display the top 5 and bottom 5 values\n",
    "print(\"5 Highest :\")\n",
    "print(s2t.head(5))\n",
    "print(\"\\n5 Lowest:\")\n",
    "print(s2t.tail(5))\n",
    "\n",
    "print(f\"\\nPennsylvania STR: {s2t.PA}\")\n",
    "\n"
   ]
  },
  {
   "cell_type": "code",
   "execution_count": null,
   "id": "4506185c-6937-4f27-a89e-3521dcae2075",
   "metadata": {},
   "outputs": [],
   "source": [
    "# What is the mean of the Student/Teacher Ratio\n",
    "print(f\"The mean Student/Teacher Ratio weighted equally by state is: {round(s2t.mean(),2)}.\")\n",
    "print(f\"The mean ratio across all schools is {round(ratio_filtered['Student teacher ratio'].mean(),2)}.\")\n",
    "\n"
   ]
  },
  {
   "cell_type": "code",
   "execution_count": null,
   "id": "5b45a37e-99d6-45ab-bf2f-6aa088feb2a9",
   "metadata": {},
   "outputs": [],
   "source": [
    "# What is the standard deviation of the Student/Teacher Ratio\n",
    "print(f\"State level standard deviaton of STR: {round(s2t.std(),2)}\")\n"
   ]
  },
  {
   "cell_type": "code",
   "execution_count": null,
   "id": "ce2f701d-fbce-4634-a279-50812760740e",
   "metadata": {},
   "outputs": [],
   "source": [
    "# Plot the states ratios in descending order\n",
    "s2t.plot.bar(x=\"Location state\", y=\"Student teacher ratio\", figsize = (12,4), rot=70)\n"
   ]
  },
  {
   "cell_type": "code",
   "execution_count": null,
   "id": "9c6cf9f8-ca2d-46c6-8ac6-38b934569d07",
   "metadata": {},
   "outputs": [],
   "source": [
    "# Plot a boxplot of the Student/Teacher Ratios\n",
    "s2t.plot.box(title = \"National Student Teacher Ratio\")\n"
   ]
  },
  {
   "cell_type": "markdown",
   "id": "c5483b02-4800-4861-be2c-5df701c7c236",
   "metadata": {},
   "source": [
    "## Summarize your findings from any of the analysis or plots above:\n",
    "* Were there any interesting Correlations?\n",
    "    * It was interesting that there was virtually no correlation between student teacher ratio and racial demographic.\n",
    "    * There was a negative correlation with Latitude and number of hispanic students, as one might expect.\n",
    "    * There was a positive correlation between number of white students and number of mixed race students, but the correlation did not extend to other races besides white, except maybe VERY weakly in asian.\n",
    "* How did your state compare to others?\n",
    "    * PA (13.77) had a lower than national average (14.17) student to teacher ratio, within one stdev (2.26).\n",
    "* Would you have made any different decisions in the earlier cleaning stages after becoming more familiar with the data?\n",
    "    * Kept in other school types to compare\n",
    "* What is going on in IL?\n",
    "    * It would appear that the Department of Education is not publishing these data, as I cannot find any information about Illinois not reporting it to Dept Ed.\n",
    "    * Why would they do this?\n",
    "    * I also note that there is only one (Navajo Nation) school reporting in Utah.\n",
    "* What other analysis could be done with this data?\n",
    "    * Compare Student Teacher Ratios or demographic data by school type across states\n",
    "    * Observe number of students by race in each type of school\n",
    "    * Racial demographics of students by state or by location (Lat/Long)"
   ]
  },
  {
   "cell_type": "markdown",
   "id": "1ad4d2bc-989d-4dd9-9925-1cf1d6e737a1",
   "metadata": {},
   "source": [
    "## BONUS: Generate other interesting analysis or plots"
   ]
  },
  {
   "cell_type": "code",
   "execution_count": null,
   "id": "630d6d42-481b-4c57-ad6d-1fec27713850",
   "metadata": {},
   "outputs": [],
   "source": [
    "# Racial demographics of students by state or by location (Lat/Long)\n",
    "import matplotlib.pyplot as plt\n",
    "\n",
    "contiguous_df2 = total_filtered.loc[~total_filtered[\"Location state\"].isin([\"PR\",\"VI\",\"AK\",\"HI\",\"GU\",\"DC\"])]\n",
    "\n",
    "contiguous_df2.plot.scatter(x='Longitude', y='Latitude', s=contiguous_df2['All Students - American Indian/Alaska Native'])\n",
    "\n",
    "plt.xlabel('Longitude')\n",
    "plt.ylabel('Latitude')\n",
    "plt.title('Density of Native American Students by Location')\n",
    "\n",
    "plt.show()\n",
    "\n"
   ]
  },
  {
   "cell_type": "code",
   "execution_count": null,
   "id": "6b19b152-9e7c-487f-be39-b96b85638596",
   "metadata": {
    "tags": []
   },
   "outputs": [],
   "source": [
    "contiguous_df2.plot.scatter(x='Longitude', y='Latitude', s=contiguous_df2['All Students - Asian'])\n",
    "\n",
    "plt.xlabel('Longitude')\n",
    "plt.ylabel('Latitude')\n",
    "plt.title('Density of Asian Students by Location')\n",
    "\n",
    "plt.show()\n"
   ]
  },
  {
   "cell_type": "code",
   "execution_count": null,
   "id": "6e21c964-c45d-4ad2-8192-c1ed072fda86",
   "metadata": {
    "tags": []
   },
   "outputs": [],
   "source": [
    "contiguous_df2.plot.scatter(x='Longitude', y='Latitude', s=contiguous_df2['All Students - Black or African American'])\n",
    "\n",
    "plt.xlabel('Longitude')\n",
    "plt.ylabel('Latitude')\n",
    "plt.title('Density of Black Students by Location')\n",
    "\n",
    "plt.show()\n"
   ]
  },
  {
   "cell_type": "code",
   "execution_count": null,
   "id": "6d97384a-9d38-4409-93e2-7aa9b9a49ad9",
   "metadata": {
    "tags": []
   },
   "outputs": [],
   "source": [
    "contiguous_df2.plot.scatter(x='Longitude', y='Latitude', s=contiguous_df2['All Students - White'])\n",
    "\n",
    "plt.xlabel('Longitude')\n",
    "plt.ylabel('Latitude')\n",
    "plt.title('Density of White Students by Location')\n",
    "\n",
    "plt.show()\n"
   ]
  },
  {
   "cell_type": "code",
   "execution_count": null,
   "id": "eb113c67-5fa6-40e3-b39d-9386c5eab3f8",
   "metadata": {
    "tags": []
   },
   "outputs": [],
   "source": [
    "contiguous_df2.plot.scatter(x='Longitude', y='Latitude', s=contiguous_df2['All Students - Hispanic'])\n",
    "\n",
    "plt.xlabel('Longitude')\n",
    "plt.ylabel('Latitude')\n",
    "plt.title('Density of Hispanic Students by Location')\n",
    "\n",
    "plt.show()\n"
   ]
  }
 ],
 "metadata": {
  "kernelspec": {
   "display_name": "Python 3 (ipykernel)",
   "language": "python",
   "name": "python3"
  },
  "language_info": {
   "codemirror_mode": {
    "name": "ipython",
    "version": 3
   },
   "file_extension": ".py",
   "mimetype": "text/x-python",
   "name": "python",
   "nbconvert_exporter": "python",
   "pygments_lexer": "ipython3",
   "version": "3.11.5"
  }
 },
 "nbformat": 4,
 "nbformat_minor": 5
}
